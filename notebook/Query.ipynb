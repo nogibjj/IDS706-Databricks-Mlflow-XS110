{
 "cells": [
  {
   "cell_type": "code",
   "execution_count": 0,
   "metadata": {
    "application/vnd.databricks.v1+cell": {
     "cellMetadata": {
      "byteLimit": 2048000,
      "rowLimit": 10000
     },
     "inputWidgets": {},
     "nuid": "7b64ec4c-710d-4a0c-bc78-4b56b95852d4",
     "showTitle": false,
     "title": ""
    }
   },
   "outputs": [],
   "source": [
    "%pip install tabulate\n",
    "%pip install matplotlib\n",
    "dbutils.library.restartPython()\n"
   ]
  },
  {
   "cell_type": "code",
   "execution_count": 0,
   "metadata": {
    "application/vnd.databricks.v1+cell": {
     "cellMetadata": {
      "byteLimit": 2048000,
      "rowLimit": 10000
     },
     "inputWidgets": {},
     "nuid": "4f105efb-b270-4039-a7cb-a5025597c050",
     "showTitle": false,
     "title": ""
    }
   },
   "outputs": [],
   "source": [
    "# Usage of Spark SQL for data transformations\n",
    "Num_songs_year = spark.sql(\"\"\"\n",
    "    SELECT\n",
    "    year,\n",
    "    count(artist_name) AS num_songs\n",
    "    FROM\n",
    "    prepare_songs_data\n",
    "    WHERE\n",
    "    year > 0\n",
    "    GROUP BY\n",
    "    year\n",
    "    ORDER BY\n",
    "    year DESC\n",
    "\"\"\").toPandas()\n",
    "\n",
    "Num_songs_year"
   ]
  },
  {
   "cell_type": "code",
   "execution_count": 0,
   "metadata": {
    "application/vnd.databricks.v1+cell": {
     "cellMetadata": {
      "byteLimit": 2048000,
      "rowLimit": 10000
     },
     "inputWidgets": {},
     "nuid": "d5c55787-321e-4490-8871-653b5909f0d1",
     "showTitle": false,
     "title": ""
    }
   },
   "outputs": [],
   "source": [
    "# Proper error handling\n",
    "row = Num_songs_year.count()[1]\n",
    "if row>0:\n",
    "    print(f\"Data validation passed. {row} rows available.\")\n",
    "else:\n",
    "    print(\"No data queried\")"
   ]
  },
  {
   "cell_type": "code",
   "execution_count": 0,
   "metadata": {
    "application/vnd.databricks.v1+cell": {
     "cellMetadata": {
      "byteLimit": 2048000,
      "rowLimit": 10000
     },
     "inputWidgets": {},
     "nuid": "756fffb0-176c-4ba4-acfb-9cad7a1e8512",
     "showTitle": false,
     "title": ""
    }
   },
   "outputs": [],
   "source": [
    "import matplotlib.pyplot as plt\n",
    "# Visualization of the transformed data\n",
    "# Plot a bar plot\n",
    "plt.figure(figsize=(15, 8))\n",
    "plt.bar(Num_songs_year[\"year\"], Num_songs_year[\"num_songs\"], color='skyblue')\n",
    "plt.title(\"Number of songs for Each Year\")\n",
    "plt.xlabel(\"Year\")\n",
    "plt.ylabel(\"Number of songs\")\n",
    "plt.show()\n"
   ]
  },
  {
   "cell_type": "code",
   "execution_count": 0,
   "metadata": {
    "application/vnd.databricks.v1+cell": {
     "cellMetadata": {
      "byteLimit": 2048000,
      "rowLimit": 10000
     },
     "inputWidgets": {},
     "nuid": "25ba20f4-afcf-4d48-97c6-aacf84c5a607",
     "showTitle": false,
     "title": ""
    }
   },
   "outputs": [],
   "source": [
    "# Spark SQL Query: Which artists released the most songs each year?\n",
    "top_artists = spark.sql(\n",
    "    \"\"\"\n",
    "    SELECT\n",
    "    artist_name,\n",
    "    count(artist_name)\n",
    "    AS\n",
    "    num_songs,\n",
    "    year\n",
    "    FROM\n",
    "    prepare_songs_data\n",
    "    WHERE\n",
    "    year > 0\n",
    "    GROUP BY\n",
    "    artist_name,\n",
    "    year\n",
    "    ORDER BY\n",
    "    num_songs DESC,\n",
    "    year DESC\n",
    "    LIMIT 10\n",
    "\"\"\"\n",
    ")"
   ]
  },
  {
   "cell_type": "code",
   "execution_count": 0,
   "metadata": {
    "application/vnd.databricks.v1+cell": {
     "cellMetadata": {
      "byteLimit": 2048000,
      "rowLimit": 10000
     },
     "inputWidgets": {},
     "nuid": "671d9009-1e44-4488-b756-ceddd667dae0",
     "showTitle": false,
     "title": ""
    }
   },
   "outputs": [],
   "source": [
    "# Spark SQL Query: Find songs for your DJ list\n",
    "top_DJ = spark.sql(\n",
    "    \"\"\"\n",
    "    SELECT\n",
    "    artist_name,\n",
    "    title,\n",
    "    tempo\n",
    "    FROM\n",
    "    prepare_songs_data\n",
    "    WHERE\n",
    "    time_signature = 4\n",
    "    AND\n",
    "    tempo between 100 and 140\n",
    "    ORDER BY tempo DESC\n",
    "    LIMIT 10\n",
    "\"\"\"\n",
    ")"
   ]
  }
 ],
 "metadata": {
  "application/vnd.databricks.v1+notebook": {
   "dashboards": [],
   "language": "python",
   "notebookMetadata": {
    "mostRecentlyExecutedCommandWithImplicitDF": {
     "commandId": 3845120124834162,
     "dataframes": [
      "_sqldf"
     ]
    },
    "pythonIndentUnit": 4
   },
   "notebookName": "Query",
   "widgets": {}
  },
  "language_info": {
   "name": "python"
  }
 },
 "nbformat": 4,
 "nbformat_minor": 0
}
