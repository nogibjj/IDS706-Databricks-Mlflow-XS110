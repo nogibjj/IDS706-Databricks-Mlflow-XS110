{
 "cells": [
  {
   "cell_type": "code",
   "execution_count": 0,
   "metadata": {
    "application/vnd.databricks.v1+cell": {
     "cellMetadata": {
      "byteLimit": 2048000,
      "rowLimit": 10000
     },
     "inputWidgets": {},
     "nuid": "c66b5881-9bfd-4c77-a7b8-e12636c5c2da",
     "showTitle": false,
     "title": ""
    }
   },
   "outputs": [
    {
     "output_type": "display_data",
     "data": {
      "text/html": [
       "<style scoped>\n",
       "  .table-result-container {\n",
       "    max-height: 300px;\n",
       "    overflow: auto;\n",
       "  }\n",
       "  table, th, td {\n",
       "    border: 1px solid black;\n",
       "    border-collapse: collapse;\n",
       "  }\n",
       "  th, td {\n",
       "    padding: 5px;\n",
       "  }\n",
       "  th {\n",
       "    text-align: left;\n",
       "  }\n",
       "</style><div class='table-result-container'><table class='table-result'><thead style='background-color: white'><tr><th>path</th><th>name</th><th>size</th><th>modificationTime</th></tr></thead><tbody><tr><td>dbfs:/databricks-datasets/songs/data-001/header.txt</td><td>header.txt</td><td>377</td><td>1455505885000</td></tr><tr><td>dbfs:/databricks-datasets/songs/data-001/part-00000</td><td>part-00000</td><td>52837</td><td>1455505885000</td></tr><tr><td>dbfs:/databricks-datasets/songs/data-001/part-00001</td><td>part-00001</td><td>52469</td><td>1455505885000</td></tr><tr><td>dbfs:/databricks-datasets/songs/data-001/part-00002</td><td>part-00002</td><td>51778</td><td>1455505885000</td></tr><tr><td>dbfs:/databricks-datasets/songs/data-001/part-00003</td><td>part-00003</td><td>50551</td><td>1455505885000</td></tr><tr><td>dbfs:/databricks-datasets/songs/data-001/part-00004</td><td>part-00004</td><td>53449</td><td>1455505885000</td></tr><tr><td>dbfs:/databricks-datasets/songs/data-001/part-00005</td><td>part-00005</td><td>53301</td><td>1455505885000</td></tr><tr><td>dbfs:/databricks-datasets/songs/data-001/part-00006</td><td>part-00006</td><td>54184</td><td>1455505886000</td></tr><tr><td>dbfs:/databricks-datasets/songs/data-001/part-00007</td><td>part-00007</td><td>50924</td><td>1455505886000</td></tr><tr><td>dbfs:/databricks-datasets/songs/data-001/part-00008</td><td>part-00008</td><td>52533</td><td>1455505886000</td></tr><tr><td>dbfs:/databricks-datasets/songs/data-001/part-00009</td><td>part-00009</td><td>54570</td><td>1455505886000</td></tr><tr><td>dbfs:/databricks-datasets/songs/data-001/part-00010</td><td>part-00010</td><td>54338</td><td>1455505886000</td></tr><tr><td>dbfs:/databricks-datasets/songs/data-001/part-00011</td><td>part-00011</td><td>51836</td><td>1455505886000</td></tr><tr><td>dbfs:/databricks-datasets/songs/data-001/part-00012</td><td>part-00012</td><td>52297</td><td>1455505886000</td></tr><tr><td>dbfs:/databricks-datasets/songs/data-001/part-00013</td><td>part-00013</td><td>52044</td><td>1455505886000</td></tr><tr><td>dbfs:/databricks-datasets/songs/data-001/part-00014</td><td>part-00014</td><td>50704</td><td>1455505886000</td></tr><tr><td>dbfs:/databricks-datasets/songs/data-001/part-00015</td><td>part-00015</td><td>54158</td><td>1455505886000</td></tr><tr><td>dbfs:/databricks-datasets/songs/data-001/part-00016</td><td>part-00016</td><td>50080</td><td>1455505887000</td></tr><tr><td>dbfs:/databricks-datasets/songs/data-001/part-00017</td><td>part-00017</td><td>47708</td><td>1455505887000</td></tr><tr><td>dbfs:/databricks-datasets/songs/data-001/part-00018</td><td>part-00018</td><td>8858</td><td>1455505887000</td></tr><tr><td>dbfs:/databricks-datasets/songs/data-001/part-00019</td><td>part-00019</td><td>53323</td><td>1455505887000</td></tr><tr><td>dbfs:/databricks-datasets/songs/data-001/part-00020</td><td>part-00020</td><td>57877</td><td>1455505887000</td></tr><tr><td>dbfs:/databricks-datasets/songs/data-001/part-00021</td><td>part-00021</td><td>52491</td><td>1455505887000</td></tr><tr><td>dbfs:/databricks-datasets/songs/data-001/part-00022</td><td>part-00022</td><td>54791</td><td>1455505887000</td></tr><tr><td>dbfs:/databricks-datasets/songs/data-001/part-00023</td><td>part-00023</td><td>50682</td><td>1455505887000</td></tr><tr><td>dbfs:/databricks-datasets/songs/data-001/part-00024</td><td>part-00024</td><td>52863</td><td>1455505887000</td></tr><tr><td>dbfs:/databricks-datasets/songs/data-001/part-00025</td><td>part-00025</td><td>47416</td><td>1455505887000</td></tr><tr><td>dbfs:/databricks-datasets/songs/data-001/part-00026</td><td>part-00026</td><td>50130</td><td>1455505887000</td></tr><tr><td>dbfs:/databricks-datasets/songs/data-001/part-00027</td><td>part-00027</td><td>53462</td><td>1455505888000</td></tr><tr><td>dbfs:/databricks-datasets/songs/data-001/part-00028</td><td>part-00028</td><td>54179</td><td>1455505888000</td></tr><tr><td>dbfs:/databricks-datasets/songs/data-001/part-00029</td><td>part-00029</td><td>52738</td><td>1455505888000</td></tr><tr><td>dbfs:/databricks-datasets/songs/data-001/part-00030</td><td>part-00030</td><td>54159</td><td>1455505888000</td></tr><tr><td>dbfs:/databricks-datasets/songs/data-001/part-00031</td><td>part-00031</td><td>51247</td><td>1455505888000</td></tr><tr><td>dbfs:/databricks-datasets/songs/data-001/part-00032</td><td>part-00032</td><td>51610</td><td>1455505888000</td></tr><tr><td>dbfs:/databricks-datasets/songs/data-001/part-00033</td><td>part-00033</td><td>53895</td><td>1455505888000</td></tr><tr><td>dbfs:/databricks-datasets/songs/data-001/part-00034</td><td>part-00034</td><td>53125</td><td>1455505888000</td></tr><tr><td>dbfs:/databricks-datasets/songs/data-001/part-00035</td><td>part-00035</td><td>54066</td><td>1455505888000</td></tr><tr><td>dbfs:/databricks-datasets/songs/data-001/part-00036</td><td>part-00036</td><td>54265</td><td>1455505888000</td></tr><tr><td>dbfs:/databricks-datasets/songs/data-001/part-00037</td><td>part-00037</td><td>54264</td><td>1455505888000</td></tr><tr><td>dbfs:/databricks-datasets/songs/data-001/part-00038</td><td>part-00038</td><td>50540</td><td>1455505889000</td></tr><tr><td>dbfs:/databricks-datasets/songs/data-001/part-00039</td><td>part-00039</td><td>55193</td><td>1455505889000</td></tr><tr><td>dbfs:/databricks-datasets/songs/data-001/part-00040</td><td>part-00040</td><td>54537</td><td>1455505889000</td></tr><tr><td>dbfs:/databricks-datasets/songs/data-001/part-00041</td><td>part-00041</td><td>52402</td><td>1455505889000</td></tr><tr><td>dbfs:/databricks-datasets/songs/data-001/part-00042</td><td>part-00042</td><td>54673</td><td>1455505889000</td></tr><tr><td>dbfs:/databricks-datasets/songs/data-001/part-00043</td><td>part-00043</td><td>53009</td><td>1455505889000</td></tr><tr><td>dbfs:/databricks-datasets/songs/data-001/part-00044</td><td>part-00044</td><td>51789</td><td>1455505889000</td></tr><tr><td>dbfs:/databricks-datasets/songs/data-001/part-00045</td><td>part-00045</td><td>52986</td><td>1455505889000</td></tr><tr><td>dbfs:/databricks-datasets/songs/data-001/part-00046</td><td>part-00046</td><td>54442</td><td>1455505889000</td></tr><tr><td>dbfs:/databricks-datasets/songs/data-001/part-00047</td><td>part-00047</td><td>52971</td><td>1455505889000</td></tr><tr><td>dbfs:/databricks-datasets/songs/data-001/part-00048</td><td>part-00048</td><td>53331</td><td>1455505889000</td></tr><tr><td>dbfs:/databricks-datasets/songs/data-001/part-00049</td><td>part-00049</td><td>44263</td><td>1455505890000</td></tr><tr><td>dbfs:/databricks-datasets/songs/data-001/part-00050</td><td>part-00050</td><td>54841</td><td>1455505890000</td></tr><tr><td>dbfs:/databricks-datasets/songs/data-001/part-00051</td><td>part-00051</td><td>54306</td><td>1455505890000</td></tr><tr><td>dbfs:/databricks-datasets/songs/data-001/part-00052</td><td>part-00052</td><td>53610</td><td>1455505890000</td></tr><tr><td>dbfs:/databricks-datasets/songs/data-001/part-00053</td><td>part-00053</td><td>53573</td><td>1455505890000</td></tr><tr><td>dbfs:/databricks-datasets/songs/data-001/part-00054</td><td>part-00054</td><td>53854</td><td>1455505890000</td></tr><tr><td>dbfs:/databricks-datasets/songs/data-001/part-00055</td><td>part-00055</td><td>54236</td><td>1455505890000</td></tr><tr><td>dbfs:/databricks-datasets/songs/data-001/part-00056</td><td>part-00056</td><td>54455</td><td>1455505890000</td></tr><tr><td>dbfs:/databricks-datasets/songs/data-001/part-00057</td><td>part-00057</td><td>52307</td><td>1455505890000</td></tr><tr><td>dbfs:/databricks-datasets/songs/data-001/part-00058</td><td>part-00058</td><td>52313</td><td>1455505890000</td></tr><tr><td>dbfs:/databricks-datasets/songs/data-001/part-00059</td><td>part-00059</td><td>52446</td><td>1455505891000</td></tr><tr><td>dbfs:/databricks-datasets/songs/data-001/part-00060</td><td>part-00060</td><td>51958</td><td>1455505891000</td></tr><tr><td>dbfs:/databricks-datasets/songs/data-001/part-00061</td><td>part-00061</td><td>53859</td><td>1455505891000</td></tr><tr><td>dbfs:/databricks-datasets/songs/data-001/part-00062</td><td>part-00062</td><td>53698</td><td>1455505891000</td></tr><tr><td>dbfs:/databricks-datasets/songs/data-001/part-00063</td><td>part-00063</td><td>54482</td><td>1455505891000</td></tr><tr><td>dbfs:/databricks-datasets/songs/data-001/part-00064</td><td>part-00064</td><td>40182</td><td>1455505891000</td></tr><tr><td>dbfs:/databricks-datasets/songs/data-001/part-00065</td><td>part-00065</td><td>54410</td><td>1455505891000</td></tr><tr><td>dbfs:/databricks-datasets/songs/data-001/part-00066</td><td>part-00066</td><td>49123</td><td>1455505891000</td></tr><tr><td>dbfs:/databricks-datasets/songs/data-001/part-00067</td><td>part-00067</td><td>50796</td><td>1455505892000</td></tr><tr><td>dbfs:/databricks-datasets/songs/data-001/part-00068</td><td>part-00068</td><td>49561</td><td>1455505892000</td></tr><tr><td>dbfs:/databricks-datasets/songs/data-001/part-00069</td><td>part-00069</td><td>52294</td><td>1455505893000</td></tr><tr><td>dbfs:/databricks-datasets/songs/data-001/part-00070</td><td>part-00070</td><td>51250</td><td>1455505893000</td></tr><tr><td>dbfs:/databricks-datasets/songs/data-001/part-00071</td><td>part-00071</td><td>58942</td><td>1455505899000</td></tr><tr><td>dbfs:/databricks-datasets/songs/data-001/part-00072</td><td>part-00072</td><td>54589</td><td>1455505900000</td></tr><tr><td>dbfs:/databricks-datasets/songs/data-001/part-00073</td><td>part-00073</td><td>54233</td><td>1455505900000</td></tr><tr><td>dbfs:/databricks-datasets/songs/data-001/part-00074</td><td>part-00074</td><td>54725</td><td>1455505900000</td></tr><tr><td>dbfs:/databricks-datasets/songs/data-001/part-00075</td><td>part-00075</td><td>54877</td><td>1455505901000</td></tr><tr><td>dbfs:/databricks-datasets/songs/data-001/part-00076</td><td>part-00076</td><td>54333</td><td>1455505901000</td></tr><tr><td>dbfs:/databricks-datasets/songs/data-001/part-00077</td><td>part-00077</td><td>51927</td><td>1455505901000</td></tr><tr><td>dbfs:/databricks-datasets/songs/data-001/part-00078</td><td>part-00078</td><td>51744</td><td>1455505901000</td></tr><tr><td>dbfs:/databricks-datasets/songs/data-001/part-00079</td><td>part-00079</td><td>53187</td><td>1455505901000</td></tr><tr><td>dbfs:/databricks-datasets/songs/data-001/part-00080</td><td>part-00080</td><td>43246</td><td>1455505901000</td></tr><tr><td>dbfs:/databricks-datasets/songs/data-001/part-00081</td><td>part-00081</td><td>54269</td><td>1455505901000</td></tr><tr><td>dbfs:/databricks-datasets/songs/data-001/part-00082</td><td>part-00082</td><td>48464</td><td>1455505901000</td></tr><tr><td>dbfs:/databricks-datasets/songs/data-001/part-00083</td><td>part-00083</td><td>52144</td><td>1455505901000</td></tr><tr><td>dbfs:/databricks-datasets/songs/data-001/part-00084</td><td>part-00084</td><td>53375</td><td>1455505901000</td></tr><tr><td>dbfs:/databricks-datasets/songs/data-001/part-00085</td><td>part-00085</td><td>55139</td><td>1455505902000</td></tr><tr><td>dbfs:/databricks-datasets/songs/data-001/part-00086</td><td>part-00086</td><td>50924</td><td>1455505902000</td></tr><tr><td>dbfs:/databricks-datasets/songs/data-001/part-00087</td><td>part-00087</td><td>52013</td><td>1455505902000</td></tr><tr><td>dbfs:/databricks-datasets/songs/data-001/part-00088</td><td>part-00088</td><td>54262</td><td>1455505902000</td></tr><tr><td>dbfs:/databricks-datasets/songs/data-001/part-00089</td><td>part-00089</td><td>53007</td><td>1455505902000</td></tr><tr><td>dbfs:/databricks-datasets/songs/data-001/part-00090</td><td>part-00090</td><td>55142</td><td>1455505902000</td></tr><tr><td>dbfs:/databricks-datasets/songs/data-001/part-00091</td><td>part-00091</td><td>52049</td><td>1455505902000</td></tr><tr><td>dbfs:/databricks-datasets/songs/data-001/part-00092</td><td>part-00092</td><td>54714</td><td>1455505902000</td></tr><tr><td>dbfs:/databricks-datasets/songs/data-001/part-00093</td><td>part-00093</td><td>52906</td><td>1455505902000</td></tr><tr><td>dbfs:/databricks-datasets/songs/data-001/part-00094</td><td>part-00094</td><td>52188</td><td>1455505902000</td></tr><tr><td>dbfs:/databricks-datasets/songs/data-001/part-00095</td><td>part-00095</td><td>50768</td><td>1455505902000</td></tr><tr><td>dbfs:/databricks-datasets/songs/data-001/part-00096</td><td>part-00096</td><td>55242</td><td>1455505903000</td></tr><tr><td>dbfs:/databricks-datasets/songs/data-001/part-00097</td><td>part-00097</td><td>52059</td><td>1455505903000</td></tr><tr><td>dbfs:/databricks-datasets/songs/data-001/part-00098</td><td>part-00098</td><td>52982</td><td>1455505903000</td></tr><tr><td>dbfs:/databricks-datasets/songs/data-001/part-00099</td><td>part-00099</td><td>52015</td><td>1455505903000</td></tr><tr><td>dbfs:/databricks-datasets/songs/data-001/part-00100</td><td>part-00100</td><td>51467</td><td>1455505903000</td></tr><tr><td>dbfs:/databricks-datasets/songs/data-001/part-00101</td><td>part-00101</td><td>50926</td><td>1455505903000</td></tr><tr><td>dbfs:/databricks-datasets/songs/data-001/part-00102</td><td>part-00102</td><td>55018</td><td>1455505903000</td></tr><tr><td>dbfs:/databricks-datasets/songs/data-001/part-00103</td><td>part-00103</td><td>50043</td><td>1455505903000</td></tr><tr><td>dbfs:/databricks-datasets/songs/data-001/part-00104</td><td>part-00104</td><td>51936</td><td>1455505903000</td></tr><tr><td>dbfs:/databricks-datasets/songs/data-001/part-00105</td><td>part-00105</td><td>57311</td><td>1455505903000</td></tr><tr><td>dbfs:/databricks-datasets/songs/data-001/part-00106</td><td>part-00106</td><td>55090</td><td>1455505903000</td></tr><tr><td>dbfs:/databricks-datasets/songs/data-001/part-00107</td><td>part-00107</td><td>54396</td><td>1455505904000</td></tr><tr><td>dbfs:/databricks-datasets/songs/data-001/part-00108</td><td>part-00108</td><td>56594</td><td>1455505904000</td></tr><tr><td>dbfs:/databricks-datasets/songs/data-001/part-00109</td><td>part-00109</td><td>53260</td><td>1455505904000</td></tr><tr><td>dbfs:/databricks-datasets/songs/data-001/part-00110</td><td>part-00110</td><td>42007</td><td>1455505904000</td></tr><tr><td>dbfs:/databricks-datasets/songs/data-001/part-00119</td><td>part-00119</td><td>0</td><td>1455505904000</td></tr></tbody></table></div>"
      ]
     },
     "metadata": {
      "application/vnd.databricks.v1+output": {
       "addedWidgets": {},
       "aggData": [],
       "aggError": "",
       "aggOverflow": false,
       "aggSchema": [],
       "aggSeriesLimitReached": false,
       "aggType": "",
       "arguments": {},
       "columnCustomDisplayInfos": {},
       "data": [
        [
         "dbfs:/databricks-datasets/songs/data-001/header.txt",
         "header.txt",
         377,
         1455505885000
        ],
        [
         "dbfs:/databricks-datasets/songs/data-001/part-00000",
         "part-00000",
         52837,
         1455505885000
        ],
        [
         "dbfs:/databricks-datasets/songs/data-001/part-00001",
         "part-00001",
         52469,
         1455505885000
        ],
        [
         "dbfs:/databricks-datasets/songs/data-001/part-00002",
         "part-00002",
         51778,
         1455505885000
        ],
        [
         "dbfs:/databricks-datasets/songs/data-001/part-00003",
         "part-00003",
         50551,
         1455505885000
        ],
        [
         "dbfs:/databricks-datasets/songs/data-001/part-00004",
         "part-00004",
         53449,
         1455505885000
        ],
        [
         "dbfs:/databricks-datasets/songs/data-001/part-00005",
         "part-00005",
         53301,
         1455505885000
        ],
        [
         "dbfs:/databricks-datasets/songs/data-001/part-00006",
         "part-00006",
         54184,
         1455505886000
        ],
        [
         "dbfs:/databricks-datasets/songs/data-001/part-00007",
         "part-00007",
         50924,
         1455505886000
        ],
        [
         "dbfs:/databricks-datasets/songs/data-001/part-00008",
         "part-00008",
         52533,
         1455505886000
        ],
        [
         "dbfs:/databricks-datasets/songs/data-001/part-00009",
         "part-00009",
         54570,
         1455505886000
        ],
        [
         "dbfs:/databricks-datasets/songs/data-001/part-00010",
         "part-00010",
         54338,
         1455505886000
        ],
        [
         "dbfs:/databricks-datasets/songs/data-001/part-00011",
         "part-00011",
         51836,
         1455505886000
        ],
        [
         "dbfs:/databricks-datasets/songs/data-001/part-00012",
         "part-00012",
         52297,
         1455505886000
        ],
        [
         "dbfs:/databricks-datasets/songs/data-001/part-00013",
         "part-00013",
         52044,
         1455505886000
        ],
        [
         "dbfs:/databricks-datasets/songs/data-001/part-00014",
         "part-00014",
         50704,
         1455505886000
        ],
        [
         "dbfs:/databricks-datasets/songs/data-001/part-00015",
         "part-00015",
         54158,
         1455505886000
        ],
        [
         "dbfs:/databricks-datasets/songs/data-001/part-00016",
         "part-00016",
         50080,
         1455505887000
        ],
        [
         "dbfs:/databricks-datasets/songs/data-001/part-00017",
         "part-00017",
         47708,
         1455505887000
        ],
        [
         "dbfs:/databricks-datasets/songs/data-001/part-00018",
         "part-00018",
         8858,
         1455505887000
        ],
        [
         "dbfs:/databricks-datasets/songs/data-001/part-00019",
         "part-00019",
         53323,
         1455505887000
        ],
        [
         "dbfs:/databricks-datasets/songs/data-001/part-00020",
         "part-00020",
         57877,
         1455505887000
        ],
        [
         "dbfs:/databricks-datasets/songs/data-001/part-00021",
         "part-00021",
         52491,
         1455505887000
        ],
        [
         "dbfs:/databricks-datasets/songs/data-001/part-00022",
         "part-00022",
         54791,
         1455505887000
        ],
        [
         "dbfs:/databricks-datasets/songs/data-001/part-00023",
         "part-00023",
         50682,
         1455505887000
        ],
        [
         "dbfs:/databricks-datasets/songs/data-001/part-00024",
         "part-00024",
         52863,
         1455505887000
        ],
        [
         "dbfs:/databricks-datasets/songs/data-001/part-00025",
         "part-00025",
         47416,
         1455505887000
        ],
        [
         "dbfs:/databricks-datasets/songs/data-001/part-00026",
         "part-00026",
         50130,
         1455505887000
        ],
        [
         "dbfs:/databricks-datasets/songs/data-001/part-00027",
         "part-00027",
         53462,
         1455505888000
        ],
        [
         "dbfs:/databricks-datasets/songs/data-001/part-00028",
         "part-00028",
         54179,
         1455505888000
        ],
        [
         "dbfs:/databricks-datasets/songs/data-001/part-00029",
         "part-00029",
         52738,
         1455505888000
        ],
        [
         "dbfs:/databricks-datasets/songs/data-001/part-00030",
         "part-00030",
         54159,
         1455505888000
        ],
        [
         "dbfs:/databricks-datasets/songs/data-001/part-00031",
         "part-00031",
         51247,
         1455505888000
        ],
        [
         "dbfs:/databricks-datasets/songs/data-001/part-00032",
         "part-00032",
         51610,
         1455505888000
        ],
        [
         "dbfs:/databricks-datasets/songs/data-001/part-00033",
         "part-00033",
         53895,
         1455505888000
        ],
        [
         "dbfs:/databricks-datasets/songs/data-001/part-00034",
         "part-00034",
         53125,
         1455505888000
        ],
        [
         "dbfs:/databricks-datasets/songs/data-001/part-00035",
         "part-00035",
         54066,
         1455505888000
        ],
        [
         "dbfs:/databricks-datasets/songs/data-001/part-00036",
         "part-00036",
         54265,
         1455505888000
        ],
        [
         "dbfs:/databricks-datasets/songs/data-001/part-00037",
         "part-00037",
         54264,
         1455505888000
        ],
        [
         "dbfs:/databricks-datasets/songs/data-001/part-00038",
         "part-00038",
         50540,
         1455505889000
        ],
        [
         "dbfs:/databricks-datasets/songs/data-001/part-00039",
         "part-00039",
         55193,
         1455505889000
        ],
        [
         "dbfs:/databricks-datasets/songs/data-001/part-00040",
         "part-00040",
         54537,
         1455505889000
        ],
        [
         "dbfs:/databricks-datasets/songs/data-001/part-00041",
         "part-00041",
         52402,
         1455505889000
        ],
        [
         "dbfs:/databricks-datasets/songs/data-001/part-00042",
         "part-00042",
         54673,
         1455505889000
        ],
        [
         "dbfs:/databricks-datasets/songs/data-001/part-00043",
         "part-00043",
         53009,
         1455505889000
        ],
        [
         "dbfs:/databricks-datasets/songs/data-001/part-00044",
         "part-00044",
         51789,
         1455505889000
        ],
        [
         "dbfs:/databricks-datasets/songs/data-001/part-00045",
         "part-00045",
         52986,
         1455505889000
        ],
        [
         "dbfs:/databricks-datasets/songs/data-001/part-00046",
         "part-00046",
         54442,
         1455505889000
        ],
        [
         "dbfs:/databricks-datasets/songs/data-001/part-00047",
         "part-00047",
         52971,
         1455505889000
        ],
        [
         "dbfs:/databricks-datasets/songs/data-001/part-00048",
         "part-00048",
         53331,
         1455505889000
        ],
        [
         "dbfs:/databricks-datasets/songs/data-001/part-00049",
         "part-00049",
         44263,
         1455505890000
        ],
        [
         "dbfs:/databricks-datasets/songs/data-001/part-00050",
         "part-00050",
         54841,
         1455505890000
        ],
        [
         "dbfs:/databricks-datasets/songs/data-001/part-00051",
         "part-00051",
         54306,
         1455505890000
        ],
        [
         "dbfs:/databricks-datasets/songs/data-001/part-00052",
         "part-00052",
         53610,
         1455505890000
        ],
        [
         "dbfs:/databricks-datasets/songs/data-001/part-00053",
         "part-00053",
         53573,
         1455505890000
        ],
        [
         "dbfs:/databricks-datasets/songs/data-001/part-00054",
         "part-00054",
         53854,
         1455505890000
        ],
        [
         "dbfs:/databricks-datasets/songs/data-001/part-00055",
         "part-00055",
         54236,
         1455505890000
        ],
        [
         "dbfs:/databricks-datasets/songs/data-001/part-00056",
         "part-00056",
         54455,
         1455505890000
        ],
        [
         "dbfs:/databricks-datasets/songs/data-001/part-00057",
         "part-00057",
         52307,
         1455505890000
        ],
        [
         "dbfs:/databricks-datasets/songs/data-001/part-00058",
         "part-00058",
         52313,
         1455505890000
        ],
        [
         "dbfs:/databricks-datasets/songs/data-001/part-00059",
         "part-00059",
         52446,
         1455505891000
        ],
        [
         "dbfs:/databricks-datasets/songs/data-001/part-00060",
         "part-00060",
         51958,
         1455505891000
        ],
        [
         "dbfs:/databricks-datasets/songs/data-001/part-00061",
         "part-00061",
         53859,
         1455505891000
        ],
        [
         "dbfs:/databricks-datasets/songs/data-001/part-00062",
         "part-00062",
         53698,
         1455505891000
        ],
        [
         "dbfs:/databricks-datasets/songs/data-001/part-00063",
         "part-00063",
         54482,
         1455505891000
        ],
        [
         "dbfs:/databricks-datasets/songs/data-001/part-00064",
         "part-00064",
         40182,
         1455505891000
        ],
        [
         "dbfs:/databricks-datasets/songs/data-001/part-00065",
         "part-00065",
         54410,
         1455505891000
        ],
        [
         "dbfs:/databricks-datasets/songs/data-001/part-00066",
         "part-00066",
         49123,
         1455505891000
        ],
        [
         "dbfs:/databricks-datasets/songs/data-001/part-00067",
         "part-00067",
         50796,
         1455505892000
        ],
        [
         "dbfs:/databricks-datasets/songs/data-001/part-00068",
         "part-00068",
         49561,
         1455505892000
        ],
        [
         "dbfs:/databricks-datasets/songs/data-001/part-00069",
         "part-00069",
         52294,
         1455505893000
        ],
        [
         "dbfs:/databricks-datasets/songs/data-001/part-00070",
         "part-00070",
         51250,
         1455505893000
        ],
        [
         "dbfs:/databricks-datasets/songs/data-001/part-00071",
         "part-00071",
         58942,
         1455505899000
        ],
        [
         "dbfs:/databricks-datasets/songs/data-001/part-00072",
         "part-00072",
         54589,
         1455505900000
        ],
        [
         "dbfs:/databricks-datasets/songs/data-001/part-00073",
         "part-00073",
         54233,
         1455505900000
        ],
        [
         "dbfs:/databricks-datasets/songs/data-001/part-00074",
         "part-00074",
         54725,
         1455505900000
        ],
        [
         "dbfs:/databricks-datasets/songs/data-001/part-00075",
         "part-00075",
         54877,
         1455505901000
        ],
        [
         "dbfs:/databricks-datasets/songs/data-001/part-00076",
         "part-00076",
         54333,
         1455505901000
        ],
        [
         "dbfs:/databricks-datasets/songs/data-001/part-00077",
         "part-00077",
         51927,
         1455505901000
        ],
        [
         "dbfs:/databricks-datasets/songs/data-001/part-00078",
         "part-00078",
         51744,
         1455505901000
        ],
        [
         "dbfs:/databricks-datasets/songs/data-001/part-00079",
         "part-00079",
         53187,
         1455505901000
        ],
        [
         "dbfs:/databricks-datasets/songs/data-001/part-00080",
         "part-00080",
         43246,
         1455505901000
        ],
        [
         "dbfs:/databricks-datasets/songs/data-001/part-00081",
         "part-00081",
         54269,
         1455505901000
        ],
        [
         "dbfs:/databricks-datasets/songs/data-001/part-00082",
         "part-00082",
         48464,
         1455505901000
        ],
        [
         "dbfs:/databricks-datasets/songs/data-001/part-00083",
         "part-00083",
         52144,
         1455505901000
        ],
        [
         "dbfs:/databricks-datasets/songs/data-001/part-00084",
         "part-00084",
         53375,
         1455505901000
        ],
        [
         "dbfs:/databricks-datasets/songs/data-001/part-00085",
         "part-00085",
         55139,
         1455505902000
        ],
        [
         "dbfs:/databricks-datasets/songs/data-001/part-00086",
         "part-00086",
         50924,
         1455505902000
        ],
        [
         "dbfs:/databricks-datasets/songs/data-001/part-00087",
         "part-00087",
         52013,
         1455505902000
        ],
        [
         "dbfs:/databricks-datasets/songs/data-001/part-00088",
         "part-00088",
         54262,
         1455505902000
        ],
        [
         "dbfs:/databricks-datasets/songs/data-001/part-00089",
         "part-00089",
         53007,
         1455505902000
        ],
        [
         "dbfs:/databricks-datasets/songs/data-001/part-00090",
         "part-00090",
         55142,
         1455505902000
        ],
        [
         "dbfs:/databricks-datasets/songs/data-001/part-00091",
         "part-00091",
         52049,
         1455505902000
        ],
        [
         "dbfs:/databricks-datasets/songs/data-001/part-00092",
         "part-00092",
         54714,
         1455505902000
        ],
        [
         "dbfs:/databricks-datasets/songs/data-001/part-00093",
         "part-00093",
         52906,
         1455505902000
        ],
        [
         "dbfs:/databricks-datasets/songs/data-001/part-00094",
         "part-00094",
         52188,
         1455505902000
        ],
        [
         "dbfs:/databricks-datasets/songs/data-001/part-00095",
         "part-00095",
         50768,
         1455505902000
        ],
        [
         "dbfs:/databricks-datasets/songs/data-001/part-00096",
         "part-00096",
         55242,
         1455505903000
        ],
        [
         "dbfs:/databricks-datasets/songs/data-001/part-00097",
         "part-00097",
         52059,
         1455505903000
        ],
        [
         "dbfs:/databricks-datasets/songs/data-001/part-00098",
         "part-00098",
         52982,
         1455505903000
        ],
        [
         "dbfs:/databricks-datasets/songs/data-001/part-00099",
         "part-00099",
         52015,
         1455505903000
        ],
        [
         "dbfs:/databricks-datasets/songs/data-001/part-00100",
         "part-00100",
         51467,
         1455505903000
        ],
        [
         "dbfs:/databricks-datasets/songs/data-001/part-00101",
         "part-00101",
         50926,
         1455505903000
        ],
        [
         "dbfs:/databricks-datasets/songs/data-001/part-00102",
         "part-00102",
         55018,
         1455505903000
        ],
        [
         "dbfs:/databricks-datasets/songs/data-001/part-00103",
         "part-00103",
         50043,
         1455505903000
        ],
        [
         "dbfs:/databricks-datasets/songs/data-001/part-00104",
         "part-00104",
         51936,
         1455505903000
        ],
        [
         "dbfs:/databricks-datasets/songs/data-001/part-00105",
         "part-00105",
         57311,
         1455505903000
        ],
        [
         "dbfs:/databricks-datasets/songs/data-001/part-00106",
         "part-00106",
         55090,
         1455505903000
        ],
        [
         "dbfs:/databricks-datasets/songs/data-001/part-00107",
         "part-00107",
         54396,
         1455505904000
        ],
        [
         "dbfs:/databricks-datasets/songs/data-001/part-00108",
         "part-00108",
         56594,
         1455505904000
        ],
        [
         "dbfs:/databricks-datasets/songs/data-001/part-00109",
         "part-00109",
         53260,
         1455505904000
        ],
        [
         "dbfs:/databricks-datasets/songs/data-001/part-00110",
         "part-00110",
         42007,
         1455505904000
        ],
        [
         "dbfs:/databricks-datasets/songs/data-001/part-00119",
         "part-00119",
         0,
         1455505904000
        ]
       ],
       "datasetInfos": [],
       "dbfsResultPath": null,
       "isJsonSchema": true,
       "metadata": {},
       "overflow": false,
       "plotOptions": {
        "customPlotOptions": {},
        "displayType": "table",
        "pivotAggregation": null,
        "pivotColumns": null,
        "xColumns": null,
        "yColumns": null
       },
       "removedWidgets": [],
       "schema": [
        {
         "metadata": "{}",
         "name": "path",
         "type": "\"string\""
        },
        {
         "metadata": "{}",
         "name": "name",
         "type": "\"string\""
        },
        {
         "metadata": "{}",
         "name": "size",
         "type": "\"long\""
        },
        {
         "metadata": "{}",
         "name": "modificationTime",
         "type": "\"long\""
        }
       ],
       "type": "table"
      }
     },
     "output_type": "display_data"
    }
   ],
   "source": [
    "#display(dbutils.fs.ls('dbfs:/FileStore/tables'))\n",
    "display(dbutils.fs.ls('/databricks-datasets/songs/data-001/'))"
   ]
  },
  {
   "cell_type": "code",
   "execution_count": 0,
   "metadata": {
    "application/vnd.databricks.v1+cell": {
     "cellMetadata": {
      "byteLimit": 2048000,
      "rowLimit": 10000
     },
     "inputWidgets": {},
     "nuid": "5b21bbac-abe8-450d-9060-17ccf9afb5e7",
     "showTitle": false,
     "title": ""
    }
   },
   "outputs": [
    {
     "output_type": "stream",
     "name": "stdout",
     "output_type": "stream",
     "text": [
      "Sample of Million Song Dataset\n===============================\n\n## Source\nThis data is a small subset of the [Million Song Dataset](http://labrosa.ee.columbia.edu/millionsong/).\nThe original data was contributed by The Echo Nest.\nPrepared by T. Bertin-Mahieux <tb2332 '@' columbia.edu>\n\n## Attribute Information\n- artist_id:string\n- artist_latitude:double\n- artist_longitude:double\n- artist_location:string\n- artist_name:string\n- duration:double\n- end_of_fade_in:double\n- key:int\n- key_confidence:double\n- loudness:double\n- release:string\n- song_hotnes:double\n- song_id:string\n- start_of_fade_out:double\n- tempo:double\n- time_signature:double\n- time_signature_confidence:double\n- title:string\n- year:double\n- partial_sequence:int\n\n## Citation\nUsing the dataset?\n\nPlease cite the following paper [pdf](http://www.columbia.edu/~tb2332/Papers/ismir11.pdf) [bib](http://labrosa.ee.columbia.edu/millionsong/sites/default/files/millionsong_ismir11_1.bib):\n\nThierry Bertin-Mahieux, Daniel P.W. Ellis, Brian Whitman, and Paul Lamere. \nThe Million Song Dataset. In Proceedings of the 12th International Society\nfor Music Information Retrieval Conference (ISMIR 2011), 2011.\n\n## Acknowledgements\nThe Million Song Dataset was created under a grant from the National Science Foundation, project IIS-0713334. The original data was contributed by The Echo Nest, as part of an NSF-sponsored GOALI collaboration. Subsequent donations from SecondHandSongs.com, musiXmatch.com, and last.fm, as well as further donations from The Echo Nest, are gratefully acknowledged.\n\nAny opinions, findings and conclusions or recommendations expressed in this material are those of the authors and do not necessarily reflect the views of the sponsors.\n"
     ]
    }
   ],
   "source": [
    "f = open('/dbfs/databricks-datasets/songs/README.md', 'r')\n",
    "print(f.read())"
   ]
  },
  {
   "cell_type": "code",
   "execution_count": 0,
   "metadata": {
    "application/vnd.databricks.v1+cell": {
     "cellMetadata": {},
     "inputWidgets": {},
     "nuid": "0d331f73-d461-45c4-a194-b7e3e4d0bfcc",
     "showTitle": false,
     "title": ""
    }
   },
   "outputs": [],
   "source": []
  },
  {
   "cell_type": "code",
   "execution_count": 0,
   "metadata": {
    "application/vnd.databricks.v1+cell": {
     "cellMetadata": {
      "byteLimit": 2048000,
      "rowLimit": 10000
     },
     "inputWidgets": {},
     "nuid": "27e48cb3-c458-45f2-8ea9-a3e6649f7a7b",
     "showTitle": false,
     "title": ""
    }
   },
   "outputs": [
    {
     "output_type": "execute_result",
     "data": {
      "text/plain": [
       "<pyspark.sql.streaming.query.StreamingQuery at 0x7f3fa0780cd0>"
      ]
     },
     "execution_count": 11,
     "metadata": {},
     "output_type": "execute_result"
    }
   ],
   "source": [
    "from pyspark.sql.types import DoubleType, IntegerType, StringType, StructType, StructField\n",
    "\n",
    "# Define variables used in the code below\n",
    "file_path = \"/databricks-datasets/songs/data-001/\"\n",
    "table_name = \"raw_song_data\" # Replace \"your_table_name\" with the desired table name\n",
    "checkpoint_path = \"/tmp/pipeline_get_started/_checkpoint/songss_data\"\n",
    "\n",
    "schema = StructType(\n",
    "  [\n",
    "    StructField(\"artist_id\", StringType(), True),\n",
    "    StructField(\"artist_lat\", DoubleType(), True),\n",
    "    StructField(\"artist_long\", DoubleType(), True),\n",
    "    StructField(\"artist_location\", StringType(), True),\n",
    "    StructField(\"artist_name\", StringType(), True),\n",
    "    StructField(\"duration\", DoubleType(), True),\n",
    "    StructField(\"end_of_fade_in\", DoubleType(), True),\n",
    "    StructField(\"key\", IntegerType(), True),\n",
    "    StructField(\"key_confidence\", DoubleType(), True),\n",
    "    StructField(\"loudness\", DoubleType(), True),\n",
    "    StructField(\"release\", StringType(), True),\n",
    "    StructField(\"song_hotnes\", DoubleType(), True),\n",
    "    StructField(\"song_id\", StringType(), True),\n",
    "    StructField(\"start_of_fade_out\", DoubleType(), True),\n",
    "    StructField(\"tempo\", DoubleType(), True),\n",
    "    StructField(\"time_signature\", DoubleType(), True),\n",
    "    StructField(\"time_signature_confidence\", DoubleType(), True),\n",
    "    StructField(\"title\", StringType(), True),\n",
    "    StructField(\"year\", IntegerType(), True),\n",
    "    StructField(\"partial_sequence\", IntegerType(), True)\n",
    "  ]\n",
    ")\n",
    "\n",
    "(spark.readStream\n",
    "  .format(\"cloudFiles\")\n",
    "  .schema(schema)\n",
    "  .option(\"cloudFiles.format\", \"csv\")\n",
    "  .option(\"sep\",\"\\t\")\n",
    "  .load(file_path)\n",
    "  .writeStream\n",
    "  .option(\"checkpointLocation\", checkpoint_path)\n",
    "  .trigger(availableNow=True)\n",
    "  .toTable(table_name)\n",
    ")"
   ]
  }
 ],
 "metadata": {
  "application/vnd.databricks.v1+notebook": {
   "dashboards": [],
   "language": "python",
   "notebookMetadata": {
    "mostRecentlyExecutedCommandWithImplicitDF": {
     "commandId": 3700599190458607,
     "dataframes": [
      "_sqldf"
     ]
    },
    "pythonIndentUnit": 4
   },
   "notebookName": "Ingest songs data",
   "widgets": {}
  }
 },
 "nbformat": 4,
 "nbformat_minor": 0
}
