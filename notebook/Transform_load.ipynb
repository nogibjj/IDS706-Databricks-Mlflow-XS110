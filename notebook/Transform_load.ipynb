{
 "cells": [
  {
   "cell_type": "code",
   "execution_count": 0,
   "metadata": {
    "application/vnd.databricks.v1+cell": {
     "cellMetadata": {
      "byteLimit": 2048000,
      "implicitDf": true,
      "rowLimit": 10000
     },
     "inputWidgets": {},
     "nuid": "c6935047-606f-4cee-a6f7-61328e2aa4e1",
     "showTitle": false,
     "title": ""
    }
   },
   "outputs": [],
   "source": [
    "%sql\n",
    "CREATE OR REPLACE TABLE Prepare_songs_data\n",
    "USING DELTA\n",
    "AS\n",
    "SELECT\n",
    "  artist_id,\n",
    "  artist_name,\n",
    "  duration,\n",
    "  release,\n",
    "  tempo,\n",
    "  time_signature,\n",
    "  title,\n",
    "  year,\n",
    "  current_timestamp() AS processed_time\n",
    "FROM\n",
    "  raw_song_data;\n",
    "\n",
    "INSERT INTO\n",
    "  Prepare_songs_data\n",
    "SELECT\n",
    "  artist_id,\n",
    "  artist_name,\n",
    "  duration,\n",
    "  release,\n",
    "  tempo,\n",
    "  time_signature,\n",
    "  title,\n",
    "  year,\n",
    "  current_timestamp()\n",
    "FROM\n",
    "  raw_song_data"
   ]
  }
 ],
 "metadata": {
  "application/vnd.databricks.v1+notebook": {
   "dashboards": [],
   "language": "python",
   "notebookMetadata": {
    "mostRecentlyExecutedCommandWithImplicitDF": {
     "commandId": 3737299469351173,
     "dataframes": [
      "_sqldf"
     ]
    },
    "pythonIndentUnit": 4
   },
   "notebookName": "Transform_load",
   "widgets": {}
  }
 },
 "nbformat": 4,
 "nbformat_minor": 0
}
